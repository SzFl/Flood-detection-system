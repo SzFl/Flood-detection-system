{
 "cells": [
  {
   "cell_type": "markdown",
   "id": "730bce39-af67-4a5a-a8bd-08a3bad3b5ab",
   "metadata": {},
   "source": [
    "# Imports"
   ]
  },
  {
   "cell_type": "code",
   "execution_count": null,
   "id": "08446ec7-80dc-44e9-bbd0-780b49ee838d",
   "metadata": {},
   "outputs": [],
   "source": [
    "import pandas as pd"
   ]
  },
  {
   "cell_type": "code",
   "execution_count": null,
   "id": "63f68139-39f2-4457-b57f-a5ad2dab84ee",
   "metadata": {},
   "outputs": [],
   "source": [
    "path_to_data_folder = '../Server_source/data'\n",
    "\n",
    "deepseek_r1_8b_Path = path_to_data_folder + '/2025-06-06_12:27:05_deepseek'\n",
    "gemma2_9b_Path = path_to_data_folder + '/2025-06-06_10:53:49_gemma2'\n",
    "llama3_8b_Path = path_to_data_folder + '/2025-06-06_13:10:35_llama3'"
   ]
  },
  {
   "cell_type": "markdown",
   "id": "a55f766e-54d3-4a9c-915b-16dc8f7df7b2",
   "metadata": {},
   "source": [
    "# Analysing models results"
   ]
  },
  {
   "cell_type": "code",
   "execution_count": null,
   "id": "26978a1c-5d1d-4bf6-8ebd-75488f8e7cbb",
   "metadata": {},
   "outputs": [],
   "source": [
    "deepseek_r1 = pd.read_csv(deepseek_r1_8b_Path+'/result.csv',sep=';')\n",
    "gemma2 = pd.read_csv(gemma2_9b_Path+'/result.csv',sep=';')\n",
    "llama = pd.read_csv(llama3_8b_Path+'/result.csv',sep=';')"
   ]
  },
  {
   "cell_type": "code",
   "execution_count": null,
   "id": "518a140c-bf55-492f-b707-e5dfb75fd412",
   "metadata": {},
   "outputs": [],
   "source": [
    "from analysis_functions import change_to_polish"
   ]
  },
  {
   "cell_type": "code",
   "execution_count": null,
   "id": "1f19b0f2-52e1-40ca-98f4-7c4d0804f948",
   "metadata": {},
   "outputs": [],
   "source": [
    "change_to_polish(deepseek_r1)"
   ]
  },
  {
   "cell_type": "code",
   "execution_count": null,
   "id": "cae6834b-9ca5-4385-88f5-57dd22c559ea",
   "metadata": {},
   "outputs": [],
   "source": [
    "change_to_polish(gemma2)"
   ]
  },
  {
   "cell_type": "code",
   "execution_count": null,
   "id": "d516a812-7df5-4857-93be-07a4153cceed",
   "metadata": {},
   "outputs": [],
   "source": [
    "change_to_polish(llama)"
   ]
  },
  {
   "cell_type": "markdown",
   "id": "8da70ed3-ea28-4c34-8af1-eef82591ada9",
   "metadata": {},
   "source": [
    "# Load data"
   ]
  },
  {
   "cell_type": "code",
   "execution_count": null,
   "id": "b2733001-913c-4a3d-bc1b-ca3afda62b05",
   "metadata": {
    "scrolled": true
   },
   "outputs": [],
   "source": [
    "from analysis_functions import analysis_functions\n",
    "\n",
    "deepseek_results = analysis_functions(deepseek_r1_8b_Path)\n",
    "deepseek_results"
   ]
  },
  {
   "cell_type": "code",
   "execution_count": null,
   "id": "c2ea2b30-a363-4da9-aa70-efc1b8b495b1",
   "metadata": {
    "scrolled": true
   },
   "outputs": [],
   "source": [
    "gemma2_results = analysis_functions(gemma2_9b_Path)\n",
    "gemma2_results"
   ]
  },
  {
   "cell_type": "code",
   "execution_count": null,
   "id": "79b3e61f-0589-4e93-ba51-349c89b2b079",
   "metadata": {
    "scrolled": true
   },
   "outputs": [],
   "source": [
    "llama_results = analysis_functions(llama3_8b_Path)\n",
    "llama_results"
   ]
  },
  {
   "cell_type": "markdown",
   "id": "fd36b5d4-ef3f-440a-9070-5b6e91daeb0d",
   "metadata": {},
   "source": [
    "# Confusion Matrix"
   ]
  },
  {
   "cell_type": "code",
   "execution_count": null,
   "id": "a9c2a54a-733e-4c04-bf24-a969a034d162",
   "metadata": {},
   "outputs": [],
   "source": [
    "from analysis_functions import generate_conf_matrix"
   ]
  },
  {
   "cell_type": "code",
   "execution_count": null,
   "id": "4ce5ff48-ade4-4a22-a6d9-8214a39c316d",
   "metadata": {},
   "outputs": [],
   "source": [
    "generate_conf_matrix(deepseek_results)"
   ]
  },
  {
   "cell_type": "code",
   "execution_count": null,
   "id": "c1cc0a9f-b13a-4f78-8e7b-72d72ea39ee0",
   "metadata": {},
   "outputs": [],
   "source": [
    "generate_conf_matrix(gemma2_results)"
   ]
  },
  {
   "cell_type": "code",
   "execution_count": null,
   "id": "52ac0d1d-4434-4124-a2f6-82b4c4b40ad4",
   "metadata": {},
   "outputs": [],
   "source": [
    "generate_conf_matrix(llama_results)"
   ]
  },
  {
   "cell_type": "code",
   "execution_count": null,
   "id": "eed3aaa8-24c1-455c-829a-2f0f4c1c94c1",
   "metadata": {},
   "outputs": [],
   "source": [
    "pipes = [\n",
    "    \"pipe_for_deepseek-r1_8b\",\n",
    "    \"pipe_for_gemma2_9b\",\n",
    "    \"pipe_for_llama3_8b\"\n",
    "]\n",
    "\n",
    "models = [\n",
    "    \"DeepSeek - deepseek-r1_8b\",\n",
    "    \"Gemma2 - gemma2_9b\",\n",
    "    \"Llama3 - llama3_8b\"\n",
    "]\n",
    "\n",
    "time = [\n",
    "    \"00:31:44\",\n",
    "    \"01:24:09\",\n",
    "    \"00:15:33\"\n",
    "]\n",
    "\n",
    "\n",
    "data = {\n",
    "    \"Potok\": pipes,\n",
    "    \"Model\": models,\n",
    "    \"Czas\": time\n",
    "}\n",
    "\n",
    "pd.DataFrame(data)"
   ]
  },
  {
   "cell_type": "code",
   "execution_count": null,
   "id": "a5a94923-7f66-424d-a748-91c595c5bbba",
   "metadata": {},
   "outputs": [],
   "source": []
  }
 ],
 "metadata": {
  "kernelspec": {
   "display_name": "Python 3 (ipykernel)",
   "language": "python",
   "name": "python3"
  },
  "language_info": {
   "codemirror_mode": {
    "name": "ipython",
    "version": 3
   },
   "file_extension": ".py",
   "mimetype": "text/x-python",
   "name": "python",
   "nbconvert_exporter": "python",
   "pygments_lexer": "ipython3",
   "version": "3.13.3"
  }
 },
 "nbformat": 4,
 "nbformat_minor": 5
}
