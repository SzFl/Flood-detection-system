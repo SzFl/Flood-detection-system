{
 "cells": [
  {
   "cell_type": "markdown",
   "id": "730bce39-af67-4a5a-a8bd-08a3bad3b5ab",
   "metadata": {},
   "source": [
    "# Imports"
   ]
  },
  {
   "cell_type": "code",
   "execution_count": null,
   "id": "08446ec7-80dc-44e9-bbd0-780b49ee838d",
   "metadata": {},
   "outputs": [],
   "source": [
    "import pandas as pd"
   ]
  },
  {
   "cell_type": "code",
   "execution_count": null,
   "id": "63f68139-39f2-4457-b57f-a5ad2dab84ee",
   "metadata": {},
   "outputs": [],
   "source": [
    "path_to_data_folder = '../Server_source/data'\n",
    "\n",
    "deepseek_r1_8b_Path = path_to_data_folder + '/2025-05-23_18:37:23'\n",
    "gemma2_9b_Path = path_to_data_folder + '/2025-05-23_18:39:54'\n",
    "llama3_8b_Path = path_to_data_folder + '/2025-05-23_18:46:12'"
   ]
  },
  {
   "cell_type": "markdown",
   "id": "a55f766e-54d3-4a9c-915b-16dc8f7df7b2",
   "metadata": {},
   "source": [
    "# Analysing models results"
   ]
  },
  {
   "cell_type": "code",
   "execution_count": null,
   "id": "26978a1c-5d1d-4bf6-8ebd-75488f8e7cbb",
   "metadata": {},
   "outputs": [],
   "source": [
    "deepseek_r1 = pd.read_csv(deepseek_r1_8b_Path+'/result.csv',sep=';')\n",
    "gemma2 = pd.read_csv(gemma2_9b_Path+'/result.csv',sep=';')\n",
    "llama = pd.read_csv(llama3_8b_Path+'/result.csv',sep=';')"
   ]
  },
  {
   "cell_type": "code",
   "execution_count": null,
   "id": "1f19b0f2-52e1-40ca-98f4-7c4d0804f948",
   "metadata": {},
   "outputs": [],
   "source": [
    "deepseek_r1"
   ]
  },
  {
   "cell_type": "code",
   "execution_count": null,
   "id": "cae6834b-9ca5-4385-88f5-57dd22c559ea",
   "metadata": {},
   "outputs": [],
   "source": [
    "gemma2"
   ]
  },
  {
   "cell_type": "code",
   "execution_count": null,
   "id": "d516a812-7df5-4857-93be-07a4153cceed",
   "metadata": {},
   "outputs": [],
   "source": [
    "llama"
   ]
  },
  {
   "cell_type": "markdown",
   "id": "e6dc7148-a606-431d-90fc-f2094f90bbed",
   "metadata": {},
   "source": [
    "# Deepseek (deepseek_r1_8b)"
   ]
  },
  {
   "cell_type": "markdown",
   "id": "8da70ed3-ea28-4c34-8af1-eef82591ada9",
   "metadata": {},
   "source": [
    "# Load data"
   ]
  },
  {
   "cell_type": "code",
   "execution_count": null,
   "id": "b2733001-913c-4a3d-bc1b-ca3afda62b05",
   "metadata": {
    "scrolled": true
   },
   "outputs": [],
   "source": [
    "from analysis_functions import analysis_functions, show_table\n",
    "\n",
    "deepseek_results = analysis_functions(deepseek_r1_8b_Path)\n",
    "deepseek_results"
   ]
  },
  {
   "cell_type": "markdown",
   "id": "fd36b5d4-ef3f-440a-9070-5b6e91daeb0d",
   "metadata": {},
   "source": [
    "# Confusion Matrix"
   ]
  },
  {
   "cell_type": "code",
   "execution_count": null,
   "id": "4ce5ff48-ade4-4a22-a6d9-8214a39c316d",
   "metadata": {},
   "outputs": [],
   "source": [
    "from analysis_functions import generate_conf_matrix\n",
    "\n",
    "generate_conf_matrix(deepseek_results)"
   ]
  },
  {
   "cell_type": "code",
   "execution_count": null,
   "id": "8b34858b-8552-475c-880b-f25022b8f47d",
   "metadata": {
    "scrolled": true
   },
   "outputs": [],
   "source": [
    "deepseek_results"
   ]
  },
  {
   "cell_type": "code",
   "execution_count": null,
   "id": "2621a920-8df0-43e4-afcf-3f9ad81bad3a",
   "metadata": {},
   "outputs": [],
   "source": [
    "import pandas as pd\n",
    "\n",
    "def truncate(text, length=25):\n",
    "    return text if len(text) <= length else text[:length] + \"...\"\n",
    "\n",
    "cols = ['message', 'tweet_text']\n",
    "\n",
    "df2 = df.reset_index(drop=True)\n",
    "\n",
    "view = df2[cols].copy()\n",
    "view['message']    = view['message'].apply(lambda t: truncate(t, 25))\n",
    "view['tweet_text'] = view['tweet_text'].apply(lambda t: truncate(t, 25))\n",
    "\n",
    "tooltips = df2[cols].copy()\n",
    "\n",
    "assert view.columns.equals(tooltips.columns), \"Columns mismatch!\"\n",
    "assert view.index.equals(tooltips.index),     \"Index mismatch!\"\n",
    "\n",
    "styler = (\n",
    "    view.style\n",
    "        .set_tooltips(tooltips)\n",
    "        .set_properties(**{\n",
    "            'white-space': 'pre',\n",
    "            'overflow': 'hidden',\n",
    "            'text-overflow': 'ellipsis'\n",
    "        })\n",
    "        .hide(axis='index')   \n",
    ")\n",
    "\n",
    "styler"
   ]
  },
  {
   "cell_type": "code",
   "execution_count": null,
   "id": "c1cc0a9f-b13a-4f78-8e7b-72d72ea39ee0",
   "metadata": {},
   "outputs": [],
   "source": []
  }
 ],
 "metadata": {
  "kernelspec": {
   "display_name": "Python 3 (ipykernel)",
   "language": "python",
   "name": "python3"
  },
  "language_info": {
   "codemirror_mode": {
    "name": "ipython",
    "version": 3
   },
   "file_extension": ".py",
   "mimetype": "text/x-python",
   "name": "python",
   "nbconvert_exporter": "python",
   "pygments_lexer": "ipython3",
   "version": "3.13.3"
  }
 },
 "nbformat": 4,
 "nbformat_minor": 5
}
